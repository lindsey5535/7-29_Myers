{
 "cells": [
  {
   "cell_type": "code",
   "execution_count": 2,
   "metadata": {},
   "outputs": [],
   "source": [
    "#Lindsey Myers\n",
    "#Horoscopes\n",
    "#7/29/2019\n",
    "\n",
    "import random"
   ]
  },
  {
   "cell_type": "code",
   "execution_count": 3,
   "metadata": {},
   "outputs": [],
   "source": [
    "horoscopes = []\n",
    "horoscopes = [\"Power in self\", \"Trouble in work\", \"Pressure in spirituality\"]"
   ]
  },
  {
   "cell_type": "code",
   "execution_count": 4,
   "metadata": {
    "scrolled": true
   },
   "outputs": [
    {
     "name": "stdout",
     "output_type": "stream",
     "text": [
      "Enter your birth month as a number: 12\n"
     ]
    }
   ],
   "source": [
    "birthMonth = input(\"Enter your birth month as a number: \")"
   ]
  },
  {
   "cell_type": "code",
   "execution_count": 5,
   "metadata": {},
   "outputs": [
    {
     "name": "stdout",
     "output_type": "stream",
     "text": [
      "Enter your birth day as a number: 26\n"
     ]
    }
   ],
   "source": [
    "birthDay = input(\"Enter your birth day as a number: \")"
   ]
  },
  {
   "cell_type": "code",
   "execution_count": 6,
   "metadata": {},
   "outputs": [],
   "source": [
    "def getZodiacNum(month, day):\n",
    "    if ( ( (month == 3) & (day >= 21) ) | ( (month == 4) & (day <= 19) ) ):\n",
    "        return 0 #aries\n",
    "    elif ( ( (month == 4) & (day >= 20) ) ) | ( ( (month == 5) & (day <=20) ) ):\n",
    "        return 1 #taurus\n",
    "    elif ( ( (month == 5) & (day >= 21) ) ) | ( ( (month == 6) & (day <= 20) ) ):\n",
    "        return 2 #gemini\n",
    "    elif ( ( (month == 6) & (day >= 21) ) ) | ( ( (month == 7) & (day <= 22) ) ):\n",
    "        return 3 #cancer\n",
    "    elif ( ( (month == 7) & (day >= 23) ) ) | ( ( (month == 8) & (day <= 22) ) ):\n",
    "        return 4 #leo\n",
    "    elif ( ( (month == 8) & (day >= 23) ) ) | ( ( (month == 9) & (day <= 21) ) ):\n",
    "        return 5 #virgo\n",
    "    elif ( ( (month == 9) & (day >= 22) ) ) | ( ( (month == 10) & (day <= 23) ) ):\n",
    "        return 6 #libra\n",
    "    elif ( ( (month == 10) & (day >= 24) ) ) | ( ( (month == 11) & (day <= 21) ) ):\n",
    "        return 7 #scorpio\n",
    "    elif ( ( (month == 11) & (day >= 22) ) ) | ( ( (month == 12) & (day <= 21) ) ):\n",
    "        return 8 #sagittarius\n",
    "    elif ( ( (month == 12) & (day >= 22) ) ) | ( ( (month == 1) & (day <= 19) ) ):\n",
    "        return 9 #capicorn\n",
    "    elif ( ( (month == 1) & (day >= 20) ) ) | ( ( (month == 2) & (day <= 18) ) ):\n",
    "        return 10 # aquaris\n",
    "    elif ( ( (month == 2) & (day >= 19) ) ) | ( ( (month == 3) & (day <= 20) ) ):\n",
    "        return 11 # pisces\n",
    "    else:\n",
    "        return 0 #incorrect date entered"
   ]
  },
  {
   "cell_type": "code",
   "execution_count": 7,
   "metadata": {},
   "outputs": [],
   "source": [
    "def getHoroscope(zodiacNum, horos):\n",
    "    zodiacSigns = ['Aries', 'Taurus', 'Gemini', 'Cancer', 'Leo', 'Virgo', 'Libra', 'Scorpio', 'Saggittarius', 'Capricorn', 'Aquarius', 'Pisces']\n",
    "    ranNumb = random.randint(0,3)\n",
    "    yourZod = zodiacSigns[zodiacNum]\n",
    "    yourHoro = horos[ranNumb]\n",
    "    \n",
    "    return yourZod, yourHoro"
   ]
  },
  {
   "cell_type": "code",
   "execution_count": 8,
   "metadata": {},
   "outputs": [],
   "source": [
    "yourZodiacNum = getZodiacNum(birthMonth, birthDay)"
   ]
  },
  {
   "cell_type": "code",
   "execution_count": 9,
   "metadata": {},
   "outputs": [
    {
     "name": "stdout",
     "output_type": "stream",
     "text": [
      "('Capicorn', 'Pressure in spirituality')\n"
     ]
    }
   ],
   "source": [
    "print(getHoroscope(yourZodiacNum, horoscopes))"
   ]
  },
  {
   "cell_type": "code",
   "execution_count": null,
   "metadata": {},
   "outputs": [],
   "source": []
  },
  {
   "cell_type": "code",
   "execution_count": null,
   "metadata": {},
   "outputs": [],
   "source": []
  }
 ],
 "metadata": {
  "kernelspec": {
   "display_name": "Python 2",
   "language": "python",
   "name": "python2"
  },
  "language_info": {
   "codemirror_mode": {
    "name": "ipython",
    "version": 2
   },
   "file_extension": ".py",
   "mimetype": "text/x-python",
   "name": "python",
   "nbconvert_exporter": "python",
   "pygments_lexer": "ipython2",
   "version": "2.7.15+"
  }
 },
 "nbformat": 4,
 "nbformat_minor": 2
}
